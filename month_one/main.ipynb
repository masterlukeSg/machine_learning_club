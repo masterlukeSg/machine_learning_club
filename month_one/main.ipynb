{
 "cells": [
  {
   "cell_type": "markdown",
   "id": "a870f927",
   "metadata": {},
   "source": [
    "https://machine-learning.club"
   ]
  },
  {
   "cell_type": "code",
   "execution_count": 277,
   "id": "9eed6dfa",
   "metadata": {},
   "outputs": [],
   "source": [
    "from sklearn.tree import DecisionTreeClassifier\n",
    "from sklearn.metrics import f1_score\n",
    "import pandas as pd\n",
    "from sklearn.metrics import confusion_matrix, ConfusionMatrixDisplay\n",
    "from sklearn import tree\n",
    "from sklearn.model_selection import GridSearchCV\n",
    "from imblearn.over_sampling import SMOTE\n"
   ]
  },
  {
   "cell_type": "code",
   "execution_count": 96,
   "id": "506a1809",
   "metadata": {},
   "outputs": [],
   "source": [
    "def create_dummies(data, column_name: str, prefix_name: str):\n",
    "    dummie = pd.get_dummies(data[column_name], prefix=prefix_name) # Create columsn for all the possibilities in column\n",
    "    dummie = dummie.astype(int) # Convert boolean values to integers\n",
    "    data.drop(column_name, axis=1, inplace=True) # Drop the attribute\n",
    "    return dummie"
   ]
  },
  {
   "cell_type": "code",
   "execution_count": 220,
   "id": "f6ab4205",
   "metadata": {},
   "outputs": [],
   "source": [
    "def get_importances(clf):\n",
    "\t# Dictionary: Feature → Importance in %\n",
    "    importances = {\n",
    "        feature: round(importance * 100, 2)\n",
    "        for feature, importance in zip(clf.feature_names_in_, clf.feature_importances_)\n",
    "    }\n",
    "    \n",
    "    sorted_importances = sorted(importances.items(), key=lambda x: x[1], reverse=True)\n",
    "\n",
    "    formatted = [f\"'{feature}' impact: {importance:.2f}%\" for feature, importance in sorted_importances]\n",
    "    return formatted"
   ]
  },
  {
   "cell_type": "code",
   "execution_count": 263,
   "id": "8a68eac4",
   "metadata": {},
   "outputs": [],
   "source": [
    "def get_grid(model_regressor, x_train, y_train) -> GridSearchCV:\n",
    "    # to get the max depth we search for the perfect grid\n",
    "\tparam_grid = {\n",
    "    'max_depth': list(range(2, 21)),\n",
    "    'criterion': ['gini', 'entropy']\n",
    "\t}\t\n",
    "\tfind_grid = GridSearchCV(\n",
    "\t\testimator=model_regressor,\n",
    "  \t\tscoring='f1',\n",
    "\t\tparam_grid=param_grid,\n",
    "\t\tcv=5, # cross-validation with 5 folds\n",
    "\t)\n",
    "\tfind_grid.fit(x_train, y_train)\n",
    "\treturn find_grid"
   ]
  },
  {
   "cell_type": "code",
   "execution_count": 98,
   "id": "6bb0d570",
   "metadata": {},
   "outputs": [],
   "source": [
    "data = pd.read_csv(\"data/training_data.csv\")\n",
    "\n",
    "# Get all dummies\n",
    "gender_dummie = create_dummies(data, \"gender\", \"gender\")\n",
    "work_dummie = create_dummies(data, \"work_type\", \"work\")\n",
    "smoking_dummie = create_dummies(data, \"smoking_status\", \"smoking_status\")\n",
    "residence_dummie = create_dummies(data, \"Residence_type\", \"Residence_type\")\n",
    "married_dummie = create_dummies(data, \"ever_married\", \"married\")\n",
    "\n",
    "# Add all dummies to one data frame & add it to the main data frame\n",
    "data_dummies = pd.concat([gender_dummie, work_dummie, smoking_dummie, residence_dummie, married_dummie], axis=1)\n",
    "data = pd.concat([data, data_dummies], axis=1)\n",
    "\n",
    "# Drop the following columns\n",
    "data = data.drop([\"id\"], axis=1)"
   ]
  },
  {
   "cell_type": "markdown",
   "id": "5f3b9301",
   "metadata": {},
   "source": [
    "### Later for the solution"
   ]
  },
  {
   "cell_type": "code",
   "execution_count": null,
   "id": "86f45974",
   "metadata": {},
   "outputs": [
    {
     "name": "stdout",
     "output_type": "stream",
     "text": [
      "Best max_depth: 14\n"
     ]
    }
   ],
   "source": [
    "x_train = data.drop(\"stroke\", axis=1)\n",
    "y_train = data[\"stroke\"]\n",
    "\n",
    "# TODO: change class_weight\n",
    "clf = DecisionTreeClassifier(criterion='entropy', random_state=42, class_weight={0: 1, 1: 90})\n",
    "clf = clf.fit(x_train,y_train)\n",
    "\n",
    "\n",
    "find_grid = get_grid(clf, x_train, y_train)\n",
    "max_depth = find_grid.best_params_['max_depth']\n",
    "\n",
    "print(\"Best max_depth:\", max_depth)"
   ]
  },
  {
   "cell_type": "markdown",
   "id": "6d0d0aa7",
   "metadata": {},
   "source": [
    "### To fine tune the Classifier"
   ]
  },
  {
   "cell_type": "code",
   "execution_count": null,
   "id": "79c294d2",
   "metadata": {},
   "outputs": [
    {
     "name": "stdout",
     "output_type": "stream",
     "text": [
      "F1 Score: 13.95% \n",
      "\n",
      "'age' impact: 45.15%\n",
      "'bmi' impact: 21.97%\n",
      "'avg_glucose_level' impact: 20.34%\n",
      "'smoking_status_Unknown' impact: 2.00%\n",
      "'work_Private' impact: 1.92%\n",
      "'married_Yes' impact: 1.63%\n",
      "'gender_Female' impact: 1.15%\n",
      "'work_Self-employed' impact: 1.02%\n",
      "'smoking_status_formerly smoked' impact: 0.98%\n",
      "'smoking_status_never smoked' impact: 0.93%\n",
      "'Residence_type_Rural' impact: 0.89%\n",
      "'smoking_status_smokes' impact: 0.85%\n",
      "'heart_disease' impact: 0.46%\n",
      "'hypertension' impact: 0.44%\n",
      "'Residence_type_Urban' impact: 0.17%\n",
      "'gender_Male' impact: 0.10%\n",
      "'work_Govt_job' impact: 0.02%\n",
      "'gender_Other' impact: 0.00%\n",
      "'work_Never_worked' impact: 0.00%\n",
      "'work_children' impact: 0.00%\n",
      "'married_No' impact: 0.00%\n"
     ]
    }
   ],
   "source": [
    "from sklearn.model_selection import train_test_split\n",
    "\n",
    "x = data.drop(\"stroke\", axis=1)\n",
    "y = data[\"stroke\"]\n",
    "\n",
    "x_train, x_test, y_train, y_test = train_test_split(x,y, test_size=0.4)\n",
    "\n",
    "# entropy == information gain\n",
    "# max_depth from the markdown above\n",
    "# TODO: change class_weight\n",
    "clf = DecisionTreeClassifier(criterion='entropy', random_state=42, max_depth=max_depth, class_weight={0: 1, 1: 90})\n",
    "clf = clf.fit(x_train, y_train)\n",
    "\n",
    "y_pred = clf.predict(x_test)\n",
    "\n",
    "acc = f1_score(y_test,y_pred,average='binary')\n",
    "print(f\"F1 Score: {round(acc * 100, 2)}% \\n\")\n",
    "\n",
    "for value in get_importances(clf):\n",
    "\tprint(value)\n",
    " \n"
   ]
  },
  {
   "cell_type": "code",
   "execution_count": null,
   "id": "f5a82df4",
   "metadata": {},
   "outputs": [
    {
     "name": "stdout",
     "output_type": "stream",
     "text": [
      "stroke\n",
      "0    0.944943\n",
      "1    0.055057\n",
      "Name: proportion, dtype: float64\n"
     ]
    }
   ],
   "source": [
    "# Shows us how imbalanced the stroke is -> reason for the bad results\n",
    "print(pd.Series(y_train).value_counts(normalize=True))\n"
   ]
  },
  {
   "cell_type": "markdown",
   "id": "f898819a",
   "metadata": {},
   "source": [
    "The reason why the most of our true labeled are 0-0, but we want more of 1-1"
   ]
  },
  {
   "cell_type": "code",
   "execution_count": 274,
   "id": "e54eb97c",
   "metadata": {},
   "outputs": [
    {
     "data": {
      "text/plain": [
       "<sklearn.metrics._plot.confusion_matrix.ConfusionMatrixDisplay at 0x308290210>"
      ]
     },
     "execution_count": 274,
     "metadata": {},
     "output_type": "execute_result"
    },
    {
     "data": {
      "image/png": "[encoded data removed]",
      "text/plain": [
       "<Figure size 640x480 with 2 Axes>"
      ]
     },
     "metadata": {},
     "output_type": "display_data"
    }
   ],
   "source": [
    "# plot confusions matrix\n",
    "cm = confusion_matrix(y_test, y_pred)\n",
    "disp = ConfusionMatrixDisplay(confusion_matrix=cm)\n",
    "disp.plot()\n",
    "\n",
    "# plot decussion tree\n",
    "#tree.plot_tree(clf)"
   ]
  }
 ],
 "metadata": {
  "kernelspec": {
   "display_name": "ki1",
   "language": "python",
   "name": "python3"
  },
  "language_info": {
   "codemirror_mode": {
    "name": "ipython",
    "version": 3
   },
   "file_extension": ".py",
   "mimetype": "text/x-python",
   "name": "python",
   "nbconvert_exporter": "python",
   "pygments_lexer": "ipython3",
   "version": "3.11.11"
  }
 },
 "nbformat": 4,
 "nbformat_minor": 5
}
